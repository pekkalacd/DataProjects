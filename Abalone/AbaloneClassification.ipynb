{
  "nbformat": 4,
  "nbformat_minor": 0,
  "metadata": {
    "colab": {
      "provenance": []
    },
    "kernelspec": {
      "name": "python3",
      "display_name": "Python 3"
    },
    "language_info": {
      "name": "python"
    }
  },
  "cells": [
    {
      "cell_type": "markdown",
      "source": [
        "# Exploring Classification \n",
        "\n",
        "UCI Machine Learning: Abalone Dataset\n",
        "\n",
        "https://archive.ics.uci.edu/ml/machine-learning-databases/abalone/\n",
        "\n",
        "```\n",
        "abalone.data\n",
        "```\n",
        "contains the data points themselves.\n",
        "\n",
        "```\n",
        "abalone.names\n",
        "```\n",
        "contains the legend for how to go about interpreting the data\n"
      ],
      "metadata": {
        "id": "_LzojdxAwamy"
      }
    },
    {
      "cell_type": "code",
      "execution_count": 155,
      "metadata": {
        "id": "8obEjoPOqGd8"
      },
      "outputs": [],
      "source": [
        "import pandas as pd\n",
        "import numpy as np\n",
        "import seaborn as sns\n",
        "import matplotlib.pyplot as plt\n",
        "import warnings \n",
        "\n",
        "warnings.filterwarnings('ignore')"
      ]
    },
    {
      "cell_type": "code",
      "source": [
        "df = pd.read_csv(\"abalone.data\", header=None)"
      ],
      "metadata": {
        "id": "XoU7OrWgxyqx"
      },
      "execution_count": 156,
      "outputs": []
    },
    {
      "cell_type": "markdown",
      "source": [
        "### Cleaning "
      ],
      "metadata": {
        "id": "c4TdxHE2yrpJ"
      }
    },
    {
      "cell_type": "code",
      "source": [
        "df.head()"
      ],
      "metadata": {
        "colab": {
          "base_uri": "https://localhost:8080/",
          "height": 206
        },
        "id": "ckTdg4n90ICd",
        "outputId": "139681d2-ea2e-450d-b1d2-48fa16739e32"
      },
      "execution_count": 157,
      "outputs": [
        {
          "output_type": "execute_result",
          "data": {
            "text/plain": [
              "   0      1      2      3       4       5       6      7   8\n",
              "0  M  0.455  0.365  0.095  0.5140  0.2245  0.1010  0.150  15\n",
              "1  M  0.350  0.265  0.090  0.2255  0.0995  0.0485  0.070   7\n",
              "2  F  0.530  0.420  0.135  0.6770  0.2565  0.1415  0.210   9\n",
              "3  M  0.440  0.365  0.125  0.5160  0.2155  0.1140  0.155  10\n",
              "4  I  0.330  0.255  0.080  0.2050  0.0895  0.0395  0.055   7"
            ],
            "text/html": [
              "\n",
              "  <div id=\"df-a819ab2b-0e2a-4b1d-8f6a-06b3c189bf2f\">\n",
              "    <div class=\"colab-df-container\">\n",
              "      <div>\n",
              "<style scoped>\n",
              "    .dataframe tbody tr th:only-of-type {\n",
              "        vertical-align: middle;\n",
              "    }\n",
              "\n",
              "    .dataframe tbody tr th {\n",
              "        vertical-align: top;\n",
              "    }\n",
              "\n",
              "    .dataframe thead th {\n",
              "        text-align: right;\n",
              "    }\n",
              "</style>\n",
              "<table border=\"1\" class=\"dataframe\">\n",
              "  <thead>\n",
              "    <tr style=\"text-align: right;\">\n",
              "      <th></th>\n",
              "      <th>0</th>\n",
              "      <th>1</th>\n",
              "      <th>2</th>\n",
              "      <th>3</th>\n",
              "      <th>4</th>\n",
              "      <th>5</th>\n",
              "      <th>6</th>\n",
              "      <th>7</th>\n",
              "      <th>8</th>\n",
              "    </tr>\n",
              "  </thead>\n",
              "  <tbody>\n",
              "    <tr>\n",
              "      <th>0</th>\n",
              "      <td>M</td>\n",
              "      <td>0.455</td>\n",
              "      <td>0.365</td>\n",
              "      <td>0.095</td>\n",
              "      <td>0.5140</td>\n",
              "      <td>0.2245</td>\n",
              "      <td>0.1010</td>\n",
              "      <td>0.150</td>\n",
              "      <td>15</td>\n",
              "    </tr>\n",
              "    <tr>\n",
              "      <th>1</th>\n",
              "      <td>M</td>\n",
              "      <td>0.350</td>\n",
              "      <td>0.265</td>\n",
              "      <td>0.090</td>\n",
              "      <td>0.2255</td>\n",
              "      <td>0.0995</td>\n",
              "      <td>0.0485</td>\n",
              "      <td>0.070</td>\n",
              "      <td>7</td>\n",
              "    </tr>\n",
              "    <tr>\n",
              "      <th>2</th>\n",
              "      <td>F</td>\n",
              "      <td>0.530</td>\n",
              "      <td>0.420</td>\n",
              "      <td>0.135</td>\n",
              "      <td>0.6770</td>\n",
              "      <td>0.2565</td>\n",
              "      <td>0.1415</td>\n",
              "      <td>0.210</td>\n",
              "      <td>9</td>\n",
              "    </tr>\n",
              "    <tr>\n",
              "      <th>3</th>\n",
              "      <td>M</td>\n",
              "      <td>0.440</td>\n",
              "      <td>0.365</td>\n",
              "      <td>0.125</td>\n",
              "      <td>0.5160</td>\n",
              "      <td>0.2155</td>\n",
              "      <td>0.1140</td>\n",
              "      <td>0.155</td>\n",
              "      <td>10</td>\n",
              "    </tr>\n",
              "    <tr>\n",
              "      <th>4</th>\n",
              "      <td>I</td>\n",
              "      <td>0.330</td>\n",
              "      <td>0.255</td>\n",
              "      <td>0.080</td>\n",
              "      <td>0.2050</td>\n",
              "      <td>0.0895</td>\n",
              "      <td>0.0395</td>\n",
              "      <td>0.055</td>\n",
              "      <td>7</td>\n",
              "    </tr>\n",
              "  </tbody>\n",
              "</table>\n",
              "</div>\n",
              "      <button class=\"colab-df-convert\" onclick=\"convertToInteractive('df-a819ab2b-0e2a-4b1d-8f6a-06b3c189bf2f')\"\n",
              "              title=\"Convert this dataframe to an interactive table.\"\n",
              "              style=\"display:none;\">\n",
              "        \n",
              "  <svg xmlns=\"http://www.w3.org/2000/svg\" height=\"24px\"viewBox=\"0 0 24 24\"\n",
              "       width=\"24px\">\n",
              "    <path d=\"M0 0h24v24H0V0z\" fill=\"none\"/>\n",
              "    <path d=\"M18.56 5.44l.94 2.06.94-2.06 2.06-.94-2.06-.94-.94-2.06-.94 2.06-2.06.94zm-11 1L8.5 8.5l.94-2.06 2.06-.94-2.06-.94L8.5 2.5l-.94 2.06-2.06.94zm10 10l.94 2.06.94-2.06 2.06-.94-2.06-.94-.94-2.06-.94 2.06-2.06.94z\"/><path d=\"M17.41 7.96l-1.37-1.37c-.4-.4-.92-.59-1.43-.59-.52 0-1.04.2-1.43.59L10.3 9.45l-7.72 7.72c-.78.78-.78 2.05 0 2.83L4 21.41c.39.39.9.59 1.41.59.51 0 1.02-.2 1.41-.59l7.78-7.78 2.81-2.81c.8-.78.8-2.07 0-2.86zM5.41 20L4 18.59l7.72-7.72 1.47 1.35L5.41 20z\"/>\n",
              "  </svg>\n",
              "      </button>\n",
              "      \n",
              "  <style>\n",
              "    .colab-df-container {\n",
              "      display:flex;\n",
              "      flex-wrap:wrap;\n",
              "      gap: 12px;\n",
              "    }\n",
              "\n",
              "    .colab-df-convert {\n",
              "      background-color: #E8F0FE;\n",
              "      border: none;\n",
              "      border-radius: 50%;\n",
              "      cursor: pointer;\n",
              "      display: none;\n",
              "      fill: #1967D2;\n",
              "      height: 32px;\n",
              "      padding: 0 0 0 0;\n",
              "      width: 32px;\n",
              "    }\n",
              "\n",
              "    .colab-df-convert:hover {\n",
              "      background-color: #E2EBFA;\n",
              "      box-shadow: 0px 1px 2px rgba(60, 64, 67, 0.3), 0px 1px 3px 1px rgba(60, 64, 67, 0.15);\n",
              "      fill: #174EA6;\n",
              "    }\n",
              "\n",
              "    [theme=dark] .colab-df-convert {\n",
              "      background-color: #3B4455;\n",
              "      fill: #D2E3FC;\n",
              "    }\n",
              "\n",
              "    [theme=dark] .colab-df-convert:hover {\n",
              "      background-color: #434B5C;\n",
              "      box-shadow: 0px 1px 3px 1px rgba(0, 0, 0, 0.15);\n",
              "      filter: drop-shadow(0px 1px 2px rgba(0, 0, 0, 0.3));\n",
              "      fill: #FFFFFF;\n",
              "    }\n",
              "  </style>\n",
              "\n",
              "      <script>\n",
              "        const buttonEl =\n",
              "          document.querySelector('#df-a819ab2b-0e2a-4b1d-8f6a-06b3c189bf2f button.colab-df-convert');\n",
              "        buttonEl.style.display =\n",
              "          google.colab.kernel.accessAllowed ? 'block' : 'none';\n",
              "\n",
              "        async function convertToInteractive(key) {\n",
              "          const element = document.querySelector('#df-a819ab2b-0e2a-4b1d-8f6a-06b3c189bf2f');\n",
              "          const dataTable =\n",
              "            await google.colab.kernel.invokeFunction('convertToInteractive',\n",
              "                                                     [key], {});\n",
              "          if (!dataTable) return;\n",
              "\n",
              "          const docLinkHtml = 'Like what you see? Visit the ' +\n",
              "            '<a target=\"_blank\" href=https://colab.research.google.com/notebooks/data_table.ipynb>data table notebook</a>'\n",
              "            + ' to learn more about interactive tables.';\n",
              "          element.innerHTML = '';\n",
              "          dataTable['output_type'] = 'display_data';\n",
              "          await google.colab.output.renderOutput(dataTable, element);\n",
              "          const docLink = document.createElement('div');\n",
              "          docLink.innerHTML = docLinkHtml;\n",
              "          element.appendChild(docLink);\n",
              "        }\n",
              "      </script>\n",
              "    </div>\n",
              "  </div>\n",
              "  "
            ]
          },
          "metadata": {},
          "execution_count": 157
        }
      ]
    },
    {
      "cell_type": "code",
      "source": [
        "# transforming columns into names from abalone.names\n",
        "df.columns = pd.Index([\"Sex\",\"Length\",\"Diameter\",\"Height\",\"Whole_Weight\",\"Shucked_Weight\",\"Viscera_Weight\",\"Shell_Weight\",\"Rings\"])"
      ],
      "metadata": {
        "id": "qWzlR05T0IeE"
      },
      "execution_count": 158,
      "outputs": []
    },
    {
      "cell_type": "code",
      "source": [
        "df = df.replace({\"M\":\"Male\",\"F\":\"Female\",\"I\":\"Infant\"})"
      ],
      "metadata": {
        "id": "wAnUGMBd0KNu"
      },
      "execution_count": 159,
      "outputs": []
    },
    {
      "cell_type": "code",
      "source": [
        "# plotting count of sex's \n",
        "fig, ax = plt.subplots(figsize=(7,5))\n",
        "_ = sns.countplot(df[\"Sex\"])\n",
        "plt.title(\"Count of Sex\",fontsize=20)\n",
        "plt.ylabel(\"Count\",fontsize=15)\n",
        "plt.xlabel(\"Sex\",fontsize=15)\n",
        "plt.xticks(fontsize=14)\n",
        "_ = plt.show()"
      ],
      "metadata": {
        "colab": {
          "base_uri": "https://localhost:8080/",
          "height": 364
        },
        "id": "Jv3yTT6lyqVG",
        "outputId": "c40b2d96-2c24-4407-84da-ab69088079bc"
      },
      "execution_count": 160,
      "outputs": [
        {
          "output_type": "display_data",
          "data": {
            "text/plain": [
              "<Figure size 504x360 with 1 Axes>"
            ],
            "image/png": "[encoded data removed]"
          },
          "metadata": {
            "needs_background": "light"
          }
        }
      ]
    },
    {
      "cell_type": "code",
      "source": [
        "# converting into all numerical types\n",
        "df = df.replace({\"Male\":0,\"Female\":1,\"Infant\":2})\n",
        "df.dtypes"
      ],
      "metadata": {
        "colab": {
          "base_uri": "https://localhost:8080/"
        },
        "id": "aZ0ks5xHyqj6",
        "outputId": "684fa56d-637d-4ac2-9a76-0f7d7d2162af"
      },
      "execution_count": 161,
      "outputs": [
        {
          "output_type": "execute_result",
          "data": {
            "text/plain": [
              "Sex                 int64\n",
              "Length            float64\n",
              "Diameter          float64\n",
              "Height            float64\n",
              "Whole_Weight      float64\n",
              "Shucked_Weight    float64\n",
              "Viscera_Weight    float64\n",
              "Shell_Weight      float64\n",
              "Rings               int64\n",
              "dtype: object"
            ]
          },
          "metadata": {},
          "execution_count": 161
        }
      ]
    },
    {
      "cell_type": "code",
      "source": [
        "df.head()"
      ],
      "metadata": {
        "colab": {
          "base_uri": "https://localhost:8080/",
          "height": 206
        },
        "id": "FkP2xgmkyqt9",
        "outputId": "733fcd5c-5f92-4710-dce5-7f3c92970325"
      },
      "execution_count": 162,
      "outputs": [
        {
          "output_type": "execute_result",
          "data": {
            "text/plain": [
              "   Sex  Length  Diameter  Height  Whole_Weight  Shucked_Weight  \\\n",
              "0    0   0.455     0.365   0.095        0.5140          0.2245   \n",
              "1    0   0.350     0.265   0.090        0.2255          0.0995   \n",
              "2    1   0.530     0.420   0.135        0.6770          0.2565   \n",
              "3    0   0.440     0.365   0.125        0.5160          0.2155   \n",
              "4    2   0.330     0.255   0.080        0.2050          0.0895   \n",
              "\n",
              "   Viscera_Weight  Shell_Weight  Rings  \n",
              "0          0.1010         0.150     15  \n",
              "1          0.0485         0.070      7  \n",
              "2          0.1415         0.210      9  \n",
              "3          0.1140         0.155     10  \n",
              "4          0.0395         0.055      7  "
            ],
            "text/html": [
              "\n",
              "  <div id=\"df-6b6e1613-c5b6-4025-8c2e-2e5949999132\">\n",
              "    <div class=\"colab-df-container\">\n",
              "      <div>\n",
              "<style scoped>\n",
              "    .dataframe tbody tr th:only-of-type {\n",
              "        vertical-align: middle;\n",
              "    }\n",
              "\n",
              "    .dataframe tbody tr th {\n",
              "        vertical-align: top;\n",
              "    }\n",
              "\n",
              "    .dataframe thead th {\n",
              "        text-align: right;\n",
              "    }\n",
              "</style>\n",
              "<table border=\"1\" class=\"dataframe\">\n",
              "  <thead>\n",
              "    <tr style=\"text-align: right;\">\n",
              "      <th></th>\n",
              "      <th>Sex</th>\n",
              "      <th>Length</th>\n",
              "      <th>Diameter</th>\n",
              "      <th>Height</th>\n",
              "      <th>Whole_Weight</th>\n",
              "      <th>Shucked_Weight</th>\n",
              "      <th>Viscera_Weight</th>\n",
              "      <th>Shell_Weight</th>\n",
              "      <th>Rings</th>\n",
              "    </tr>\n",
              "  </thead>\n",
              "  <tbody>\n",
              "    <tr>\n",
              "      <th>0</th>\n",
              "      <td>0</td>\n",
              "      <td>0.455</td>\n",
              "      <td>0.365</td>\n",
              "      <td>0.095</td>\n",
              "      <td>0.5140</td>\n",
              "      <td>0.2245</td>\n",
              "      <td>0.1010</td>\n",
              "      <td>0.150</td>\n",
              "      <td>15</td>\n",
              "    </tr>\n",
              "    <tr>\n",
              "      <th>1</th>\n",
              "      <td>0</td>\n",
              "      <td>0.350</td>\n",
              "      <td>0.265</td>\n",
              "      <td>0.090</td>\n",
              "      <td>0.2255</td>\n",
              "      <td>0.0995</td>\n",
              "      <td>0.0485</td>\n",
              "      <td>0.070</td>\n",
              "      <td>7</td>\n",
              "    </tr>\n",
              "    <tr>\n",
              "      <th>2</th>\n",
              "      <td>1</td>\n",
              "      <td>0.530</td>\n",
              "      <td>0.420</td>\n",
              "      <td>0.135</td>\n",
              "      <td>0.6770</td>\n",
              "      <td>0.2565</td>\n",
              "      <td>0.1415</td>\n",
              "      <td>0.210</td>\n",
              "      <td>9</td>\n",
              "    </tr>\n",
              "    <tr>\n",
              "      <th>3</th>\n",
              "      <td>0</td>\n",
              "      <td>0.440</td>\n",
              "      <td>0.365</td>\n",
              "      <td>0.125</td>\n",
              "      <td>0.5160</td>\n",
              "      <td>0.2155</td>\n",
              "      <td>0.1140</td>\n",
              "      <td>0.155</td>\n",
              "      <td>10</td>\n",
              "    </tr>\n",
              "    <tr>\n",
              "      <th>4</th>\n",
              "      <td>2</td>\n",
              "      <td>0.330</td>\n",
              "      <td>0.255</td>\n",
              "      <td>0.080</td>\n",
              "      <td>0.2050</td>\n",
              "      <td>0.0895</td>\n",
              "      <td>0.0395</td>\n",
              "      <td>0.055</td>\n",
              "      <td>7</td>\n",
              "    </tr>\n",
              "  </tbody>\n",
              "</table>\n",
              "</div>\n",
              "      <button class=\"colab-df-convert\" onclick=\"convertToInteractive('df-6b6e1613-c5b6-4025-8c2e-2e5949999132')\"\n",
              "              title=\"Convert this dataframe to an interactive table.\"\n",
              "              style=\"display:none;\">\n",
              "        \n",
              "  <svg xmlns=\"http://www.w3.org/2000/svg\" height=\"24px\"viewBox=\"0 0 24 24\"\n",
              "       width=\"24px\">\n",
              "    <path d=\"M0 0h24v24H0V0z\" fill=\"none\"/>\n",
              "    <path d=\"M18.56 5.44l.94 2.06.94-2.06 2.06-.94-2.06-.94-.94-2.06-.94 2.06-2.06.94zm-11 1L8.5 8.5l.94-2.06 2.06-.94-2.06-.94L8.5 2.5l-.94 2.06-2.06.94zm10 10l.94 2.06.94-2.06 2.06-.94-2.06-.94-.94-2.06-.94 2.06-2.06.94z\"/><path d=\"M17.41 7.96l-1.37-1.37c-.4-.4-.92-.59-1.43-.59-.52 0-1.04.2-1.43.59L10.3 9.45l-7.72 7.72c-.78.78-.78 2.05 0 2.83L4 21.41c.39.39.9.59 1.41.59.51 0 1.02-.2 1.41-.59l7.78-7.78 2.81-2.81c.8-.78.8-2.07 0-2.86zM5.41 20L4 18.59l7.72-7.72 1.47 1.35L5.41 20z\"/>\n",
              "  </svg>\n",
              "      </button>\n",
              "      \n",
              "  <style>\n",
              "    .colab-df-container {\n",
              "      display:flex;\n",
              "      flex-wrap:wrap;\n",
              "      gap: 12px;\n",
              "    }\n",
              "\n",
              "    .colab-df-convert {\n",
              "      background-color: #E8F0FE;\n",
              "      border: none;\n",
              "      border-radius: 50%;\n",
              "      cursor: pointer;\n",
              "      display: none;\n",
              "      fill: #1967D2;\n",
              "      height: 32px;\n",
              "      padding: 0 0 0 0;\n",
              "      width: 32px;\n",
              "    }\n",
              "\n",
              "    .colab-df-convert:hover {\n",
              "      background-color: #E2EBFA;\n",
              "      box-shadow: 0px 1px 2px rgba(60, 64, 67, 0.3), 0px 1px 3px 1px rgba(60, 64, 67, 0.15);\n",
              "      fill: #174EA6;\n",
              "    }\n",
              "\n",
              "    [theme=dark] .colab-df-convert {\n",
              "      background-color: #3B4455;\n",
              "      fill: #D2E3FC;\n",
              "    }\n",
              "\n",
              "    [theme=dark] .colab-df-convert:hover {\n",
              "      background-color: #434B5C;\n",
              "      box-shadow: 0px 1px 3px 1px rgba(0, 0, 0, 0.15);\n",
              "      filter: drop-shadow(0px 1px 2px rgba(0, 0, 0, 0.3));\n",
              "      fill: #FFFFFF;\n",
              "    }\n",
              "  </style>\n",
              "\n",
              "      <script>\n",
              "        const buttonEl =\n",
              "          document.querySelector('#df-6b6e1613-c5b6-4025-8c2e-2e5949999132 button.colab-df-convert');\n",
              "        buttonEl.style.display =\n",
              "          google.colab.kernel.accessAllowed ? 'block' : 'none';\n",
              "\n",
              "        async function convertToInteractive(key) {\n",
              "          const element = document.querySelector('#df-6b6e1613-c5b6-4025-8c2e-2e5949999132');\n",
              "          const dataTable =\n",
              "            await google.colab.kernel.invokeFunction('convertToInteractive',\n",
              "                                                     [key], {});\n",
              "          if (!dataTable) return;\n",
              "\n",
              "          const docLinkHtml = 'Like what you see? Visit the ' +\n",
              "            '<a target=\"_blank\" href=https://colab.research.google.com/notebooks/data_table.ipynb>data table notebook</a>'\n",
              "            + ' to learn more about interactive tables.';\n",
              "          element.innerHTML = '';\n",
              "          dataTable['output_type'] = 'display_data';\n",
              "          await google.colab.output.renderOutput(dataTable, element);\n",
              "          const docLink = document.createElement('div');\n",
              "          docLink.innerHTML = docLinkHtml;\n",
              "          element.appendChild(docLink);\n",
              "        }\n",
              "      </script>\n",
              "    </div>\n",
              "  </div>\n",
              "  "
            ]
          },
          "metadata": {},
          "execution_count": 162
        }
      ]
    },
    {
      "cell_type": "code",
      "source": [
        "from sklearn.model_selection import train_test_split \n",
        "\n",
        "X = df.drop(\"Sex\",axis=1)\n",
        "y = df[\"Sex\"]\n",
        "\n",
        "X_train, X_test, y_train, y_test = train_test_split(X,y,test_size=0.2,random_state=123)"
      ],
      "metadata": {
        "id": "zpM851KC0pqE"
      },
      "execution_count": 163,
      "outputs": []
    },
    {
      "cell_type": "markdown",
      "source": [
        "### Multi-class Classification \n",
        "\n",
        "- I will use this dataset to try to predict the Sex of the abalone observation, given the rest of the features. \n",
        "\n",
        "- Considering this is not a binary classification task, I will explore decision tree, support vector machine, and ensemble methods."
      ],
      "metadata": {
        "id": "03KZofDwySBd"
      }
    },
    {
      "cell_type": "code",
      "source": [
        "from sklearn.tree import DecisionTreeClassifier\n",
        "from sklearn.model_selection import cross_val_score\n",
        "\n",
        "# 10-fold cross validation\n",
        "clf = DecisionTreeClassifier(max_depth=4, random_state=1).fit(X,y)\n",
        "for fold,score in enumerate(cross_val_score(clf, X, y, cv=10),start=1):\n",
        "  print(f\"fold #{fold}  {score:.3f}\\n\")\n",
        "\n",
        "# get feature importances\n",
        "print(\"Feature Importances:\",clf.feature_importances_)"
      ],
      "metadata": {
        "id": "M7rjM2sUyFkQ",
        "colab": {
          "base_uri": "https://localhost:8080/"
        },
        "outputId": "e965489a-7fbc-4585-b6d0-662357c9e124"
      },
      "execution_count": 164,
      "outputs": [
        {
          "output_type": "stream",
          "name": "stdout",
          "text": [
            "fold #1  0.462\n",
            "\n",
            "fold #2  0.512\n",
            "\n",
            "fold #3  0.622\n",
            "\n",
            "fold #4  0.565\n",
            "\n",
            "fold #5  0.543\n",
            "\n",
            "fold #6  0.522\n",
            "\n",
            "fold #7  0.612\n",
            "\n",
            "fold #8  0.506\n",
            "\n",
            "fold #9  0.597\n",
            "\n",
            "fold #10  0.566\n",
            "\n",
            "Feature Importances: [0.02387595 0.01757195 0.00452934 0.05481881 0.032591   0.68303707\n",
            " 0.00500438 0.17857149]\n"
          ]
        }
      ]
    },
    {
      "cell_type": "code",
      "source": [
        "print(\"Important predictors for Sex\")\n",
        "feature_importance_pairs = []\n",
        "for feature,importance in zip(X.columns, clf.feature_importances_):\n",
        "  print(f\"Feature: {feature} | Importance: {importance:%}\")\n",
        "  feature_importance_pairs.append((feature,importance))"
      ],
      "metadata": {
        "colab": {
          "base_uri": "https://localhost:8080/"
        },
        "id": "bVGUgADJeD2V",
        "outputId": "6a111b69-a20e-4dab-b0c7-d51097356bd5"
      },
      "execution_count": 165,
      "outputs": [
        {
          "output_type": "stream",
          "name": "stdout",
          "text": [
            "Important predictors for Sex\n",
            "Feature: Length | Importance: 2.387595%\n",
            "Feature: Diameter | Importance: 1.757195%\n",
            "Feature: Height | Importance: 0.452934%\n",
            "Feature: Whole_Weight | Importance: 5.481881%\n",
            "Feature: Shucked_Weight | Importance: 3.259100%\n",
            "Feature: Viscera_Weight | Importance: 68.303707%\n",
            "Feature: Shell_Weight | Importance: 0.500438%\n",
            "Feature: Rings | Importance: 17.857149%\n"
          ]
        }
      ]
    },
    {
      "cell_type": "code",
      "source": [
        "feature_importance_pairs"
      ],
      "metadata": {
        "colab": {
          "base_uri": "https://localhost:8080/"
        },
        "id": "1UZfpGX_c4Dt",
        "outputId": "c62c5281-9624-4241-e61e-d9de4818d106"
      },
      "execution_count": 166,
      "outputs": [
        {
          "output_type": "execute_result",
          "data": {
            "text/plain": [
              "[('Length', 0.023875946398535523),\n",
              " ('Diameter', 0.017571947519464972),\n",
              " ('Height', 0.004529344406531319),\n",
              " ('Whole_Weight', 0.054818809993758134),\n",
              " ('Shucked_Weight', 0.03259100413381318),\n",
              " ('Viscera_Weight', 0.6830370730016162),\n",
              " ('Shell_Weight', 0.005004382369855343),\n",
              " ('Rings', 0.17857149217642534)]"
            ]
          },
          "metadata": {},
          "execution_count": 166
        }
      ]
    },
    {
      "cell_type": "code",
      "source": [
        "# taking the top 5 importance features\n",
        "feature_importance_pairs.sort(key = lambda p: p[1],reverse=True)\n",
        "feats = [feat for feat,_ in feature_importance_pairs][:5]\n",
        "feats"
      ],
      "metadata": {
        "colab": {
          "base_uri": "https://localhost:8080/"
        },
        "id": "knUVEiT6eswm",
        "outputId": "8ba0598b-882c-4765-a262-84281a66df00"
      },
      "execution_count": 167,
      "outputs": [
        {
          "output_type": "execute_result",
          "data": {
            "text/plain": [
              "['Viscera_Weight', 'Rings', 'Whole_Weight', 'Shucked_Weight', 'Length']"
            ]
          },
          "metadata": {},
          "execution_count": 167
        }
      ]
    },
    {
      "cell_type": "code",
      "source": [
        "# siphoning importance features out of independent X ~ X_fi \n",
        "X_fi = X[feats]\n",
        "X_fi.head()"
      ],
      "metadata": {
        "colab": {
          "base_uri": "https://localhost:8080/",
          "height": 206
        },
        "id": "HKf-XoGgfDpY",
        "outputId": "bd8735be-9e7d-4e8b-c2c5-c529fd6a0cc8"
      },
      "execution_count": 168,
      "outputs": [
        {
          "output_type": "execute_result",
          "data": {
            "text/plain": [
              "   Viscera_Weight  Rings  Whole_Weight  Shucked_Weight  Length\n",
              "0          0.1010     15        0.5140          0.2245   0.455\n",
              "1          0.0485      7        0.2255          0.0995   0.350\n",
              "2          0.1415      9        0.6770          0.2565   0.530\n",
              "3          0.1140     10        0.5160          0.2155   0.440\n",
              "4          0.0395      7        0.2050          0.0895   0.330"
            ],
            "text/html": [
              "\n",
              "  <div id=\"df-a4c6c274-288e-4bb0-9ece-6148936668a0\">\n",
              "    <div class=\"colab-df-container\">\n",
              "      <div>\n",
              "<style scoped>\n",
              "    .dataframe tbody tr th:only-of-type {\n",
              "        vertical-align: middle;\n",
              "    }\n",
              "\n",
              "    .dataframe tbody tr th {\n",
              "        vertical-align: top;\n",
              "    }\n",
              "\n",
              "    .dataframe thead th {\n",
              "        text-align: right;\n",
              "    }\n",
              "</style>\n",
              "<table border=\"1\" class=\"dataframe\">\n",
              "  <thead>\n",
              "    <tr style=\"text-align: right;\">\n",
              "      <th></th>\n",
              "      <th>Viscera_Weight</th>\n",
              "      <th>Rings</th>\n",
              "      <th>Whole_Weight</th>\n",
              "      <th>Shucked_Weight</th>\n",
              "      <th>Length</th>\n",
              "    </tr>\n",
              "  </thead>\n",
              "  <tbody>\n",
              "    <tr>\n",
              "      <th>0</th>\n",
              "      <td>0.1010</td>\n",
              "      <td>15</td>\n",
              "      <td>0.5140</td>\n",
              "      <td>0.2245</td>\n",
              "      <td>0.455</td>\n",
              "    </tr>\n",
              "    <tr>\n",
              "      <th>1</th>\n",
              "      <td>0.0485</td>\n",
              "      <td>7</td>\n",
              "      <td>0.2255</td>\n",
              "      <td>0.0995</td>\n",
              "      <td>0.350</td>\n",
              "    </tr>\n",
              "    <tr>\n",
              "      <th>2</th>\n",
              "      <td>0.1415</td>\n",
              "      <td>9</td>\n",
              "      <td>0.6770</td>\n",
              "      <td>0.2565</td>\n",
              "      <td>0.530</td>\n",
              "    </tr>\n",
              "    <tr>\n",
              "      <th>3</th>\n",
              "      <td>0.1140</td>\n",
              "      <td>10</td>\n",
              "      <td>0.5160</td>\n",
              "      <td>0.2155</td>\n",
              "      <td>0.440</td>\n",
              "    </tr>\n",
              "    <tr>\n",
              "      <th>4</th>\n",
              "      <td>0.0395</td>\n",
              "      <td>7</td>\n",
              "      <td>0.2050</td>\n",
              "      <td>0.0895</td>\n",
              "      <td>0.330</td>\n",
              "    </tr>\n",
              "  </tbody>\n",
              "</table>\n",
              "</div>\n",
              "      <button class=\"colab-df-convert\" onclick=\"convertToInteractive('df-a4c6c274-288e-4bb0-9ece-6148936668a0')\"\n",
              "              title=\"Convert this dataframe to an interactive table.\"\n",
              "              style=\"display:none;\">\n",
              "        \n",
              "  <svg xmlns=\"http://www.w3.org/2000/svg\" height=\"24px\"viewBox=\"0 0 24 24\"\n",
              "       width=\"24px\">\n",
              "    <path d=\"M0 0h24v24H0V0z\" fill=\"none\"/>\n",
              "    <path d=\"M18.56 5.44l.94 2.06.94-2.06 2.06-.94-2.06-.94-.94-2.06-.94 2.06-2.06.94zm-11 1L8.5 8.5l.94-2.06 2.06-.94-2.06-.94L8.5 2.5l-.94 2.06-2.06.94zm10 10l.94 2.06.94-2.06 2.06-.94-2.06-.94-.94-2.06-.94 2.06-2.06.94z\"/><path d=\"M17.41 7.96l-1.37-1.37c-.4-.4-.92-.59-1.43-.59-.52 0-1.04.2-1.43.59L10.3 9.45l-7.72 7.72c-.78.78-.78 2.05 0 2.83L4 21.41c.39.39.9.59 1.41.59.51 0 1.02-.2 1.41-.59l7.78-7.78 2.81-2.81c.8-.78.8-2.07 0-2.86zM5.41 20L4 18.59l7.72-7.72 1.47 1.35L5.41 20z\"/>\n",
              "  </svg>\n",
              "      </button>\n",
              "      \n",
              "  <style>\n",
              "    .colab-df-container {\n",
              "      display:flex;\n",
              "      flex-wrap:wrap;\n",
              "      gap: 12px;\n",
              "    }\n",
              "\n",
              "    .colab-df-convert {\n",
              "      background-color: #E8F0FE;\n",
              "      border: none;\n",
              "      border-radius: 50%;\n",
              "      cursor: pointer;\n",
              "      display: none;\n",
              "      fill: #1967D2;\n",
              "      height: 32px;\n",
              "      padding: 0 0 0 0;\n",
              "      width: 32px;\n",
              "    }\n",
              "\n",
              "    .colab-df-convert:hover {\n",
              "      background-color: #E2EBFA;\n",
              "      box-shadow: 0px 1px 2px rgba(60, 64, 67, 0.3), 0px 1px 3px 1px rgba(60, 64, 67, 0.15);\n",
              "      fill: #174EA6;\n",
              "    }\n",
              "\n",
              "    [theme=dark] .colab-df-convert {\n",
              "      background-color: #3B4455;\n",
              "      fill: #D2E3FC;\n",
              "    }\n",
              "\n",
              "    [theme=dark] .colab-df-convert:hover {\n",
              "      background-color: #434B5C;\n",
              "      box-shadow: 0px 1px 3px 1px rgba(0, 0, 0, 0.15);\n",
              "      filter: drop-shadow(0px 1px 2px rgba(0, 0, 0, 0.3));\n",
              "      fill: #FFFFFF;\n",
              "    }\n",
              "  </style>\n",
              "\n",
              "      <script>\n",
              "        const buttonEl =\n",
              "          document.querySelector('#df-a4c6c274-288e-4bb0-9ece-6148936668a0 button.colab-df-convert');\n",
              "        buttonEl.style.display =\n",
              "          google.colab.kernel.accessAllowed ? 'block' : 'none';\n",
              "\n",
              "        async function convertToInteractive(key) {\n",
              "          const element = document.querySelector('#df-a4c6c274-288e-4bb0-9ece-6148936668a0');\n",
              "          const dataTable =\n",
              "            await google.colab.kernel.invokeFunction('convertToInteractive',\n",
              "                                                     [key], {});\n",
              "          if (!dataTable) return;\n",
              "\n",
              "          const docLinkHtml = 'Like what you see? Visit the ' +\n",
              "            '<a target=\"_blank\" href=https://colab.research.google.com/notebooks/data_table.ipynb>data table notebook</a>'\n",
              "            + ' to learn more about interactive tables.';\n",
              "          element.innerHTML = '';\n",
              "          dataTable['output_type'] = 'display_data';\n",
              "          await google.colab.output.renderOutput(dataTable, element);\n",
              "          const docLink = document.createElement('div');\n",
              "          docLink.innerHTML = docLinkHtml;\n",
              "          element.appendChild(docLink);\n",
              "        }\n",
              "      </script>\n",
              "    </div>\n",
              "  </div>\n",
              "  "
            ]
          },
          "metadata": {},
          "execution_count": 168
        }
      ]
    },
    {
      "cell_type": "code",
      "source": [
        "# making new dataset with these important features \n",
        "df = pd.concat((X_fi, y),axis=1)\n",
        "df"
      ],
      "metadata": {
        "colab": {
          "base_uri": "https://localhost:8080/",
          "height": 423
        },
        "id": "JmTvqYePfbFo",
        "outputId": "bbbe5091-1404-4292-c966-a8bb44e953f3"
      },
      "execution_count": 169,
      "outputs": [
        {
          "output_type": "execute_result",
          "data": {
            "text/plain": [
              "      Viscera_Weight  Rings  Whole_Weight  Shucked_Weight  Length  Sex\n",
              "0             0.1010     15        0.5140          0.2245   0.455    0\n",
              "1             0.0485      7        0.2255          0.0995   0.350    0\n",
              "2             0.1415      9        0.6770          0.2565   0.530    1\n",
              "3             0.1140     10        0.5160          0.2155   0.440    0\n",
              "4             0.0395      7        0.2050          0.0895   0.330    2\n",
              "...              ...    ...           ...             ...     ...  ...\n",
              "4172          0.2390     11        0.8870          0.3700   0.565    1\n",
              "4173          0.2145     10        0.9660          0.4390   0.590    0\n",
              "4174          0.2875      9        1.1760          0.5255   0.600    0\n",
              "4175          0.2610     10        1.0945          0.5310   0.625    1\n",
              "4176          0.3765     12        1.9485          0.9455   0.710    0\n",
              "\n",
              "[4177 rows x 6 columns]"
            ],
            "text/html": [
              "\n",
              "  <div id=\"df-52788602-95de-4aa0-8143-77d79b0ff4cc\">\n",
              "    <div class=\"colab-df-container\">\n",
              "      <div>\n",
              "<style scoped>\n",
              "    .dataframe tbody tr th:only-of-type {\n",
              "        vertical-align: middle;\n",
              "    }\n",
              "\n",
              "    .dataframe tbody tr th {\n",
              "        vertical-align: top;\n",
              "    }\n",
              "\n",
              "    .dataframe thead th {\n",
              "        text-align: right;\n",
              "    }\n",
              "</style>\n",
              "<table border=\"1\" class=\"dataframe\">\n",
              "  <thead>\n",
              "    <tr style=\"text-align: right;\">\n",
              "      <th></th>\n",
              "      <th>Viscera_Weight</th>\n",
              "      <th>Rings</th>\n",
              "      <th>Whole_Weight</th>\n",
              "      <th>Shucked_Weight</th>\n",
              "      <th>Length</th>\n",
              "      <th>Sex</th>\n",
              "    </tr>\n",
              "  </thead>\n",
              "  <tbody>\n",
              "    <tr>\n",
              "      <th>0</th>\n",
              "      <td>0.1010</td>\n",
              "      <td>15</td>\n",
              "      <td>0.5140</td>\n",
              "      <td>0.2245</td>\n",
              "      <td>0.455</td>\n",
              "      <td>0</td>\n",
              "    </tr>\n",
              "    <tr>\n",
              "      <th>1</th>\n",
              "      <td>0.0485</td>\n",
              "      <td>7</td>\n",
              "      <td>0.2255</td>\n",
              "      <td>0.0995</td>\n",
              "      <td>0.350</td>\n",
              "      <td>0</td>\n",
              "    </tr>\n",
              "    <tr>\n",
              "      <th>2</th>\n",
              "      <td>0.1415</td>\n",
              "      <td>9</td>\n",
              "      <td>0.6770</td>\n",
              "      <td>0.2565</td>\n",
              "      <td>0.530</td>\n",
              "      <td>1</td>\n",
              "    </tr>\n",
              "    <tr>\n",
              "      <th>3</th>\n",
              "      <td>0.1140</td>\n",
              "      <td>10</td>\n",
              "      <td>0.5160</td>\n",
              "      <td>0.2155</td>\n",
              "      <td>0.440</td>\n",
              "      <td>0</td>\n",
              "    </tr>\n",
              "    <tr>\n",
              "      <th>4</th>\n",
              "      <td>0.0395</td>\n",
              "      <td>7</td>\n",
              "      <td>0.2050</td>\n",
              "      <td>0.0895</td>\n",
              "      <td>0.330</td>\n",
              "      <td>2</td>\n",
              "    </tr>\n",
              "    <tr>\n",
              "      <th>...</th>\n",
              "      <td>...</td>\n",
              "      <td>...</td>\n",
              "      <td>...</td>\n",
              "      <td>...</td>\n",
              "      <td>...</td>\n",
              "      <td>...</td>\n",
              "    </tr>\n",
              "    <tr>\n",
              "      <th>4172</th>\n",
              "      <td>0.2390</td>\n",
              "      <td>11</td>\n",
              "      <td>0.8870</td>\n",
              "      <td>0.3700</td>\n",
              "      <td>0.565</td>\n",
              "      <td>1</td>\n",
              "    </tr>\n",
              "    <tr>\n",
              "      <th>4173</th>\n",
              "      <td>0.2145</td>\n",
              "      <td>10</td>\n",
              "      <td>0.9660</td>\n",
              "      <td>0.4390</td>\n",
              "      <td>0.590</td>\n",
              "      <td>0</td>\n",
              "    </tr>\n",
              "    <tr>\n",
              "      <th>4174</th>\n",
              "      <td>0.2875</td>\n",
              "      <td>9</td>\n",
              "      <td>1.1760</td>\n",
              "      <td>0.5255</td>\n",
              "      <td>0.600</td>\n",
              "      <td>0</td>\n",
              "    </tr>\n",
              "    <tr>\n",
              "      <th>4175</th>\n",
              "      <td>0.2610</td>\n",
              "      <td>10</td>\n",
              "      <td>1.0945</td>\n",
              "      <td>0.5310</td>\n",
              "      <td>0.625</td>\n",
              "      <td>1</td>\n",
              "    </tr>\n",
              "    <tr>\n",
              "      <th>4176</th>\n",
              "      <td>0.3765</td>\n",
              "      <td>12</td>\n",
              "      <td>1.9485</td>\n",
              "      <td>0.9455</td>\n",
              "      <td>0.710</td>\n",
              "      <td>0</td>\n",
              "    </tr>\n",
              "  </tbody>\n",
              "</table>\n",
              "<p>4177 rows × 6 columns</p>\n",
              "</div>\n",
              "      <button class=\"colab-df-convert\" onclick=\"convertToInteractive('df-52788602-95de-4aa0-8143-77d79b0ff4cc')\"\n",
              "              title=\"Convert this dataframe to an interactive table.\"\n",
              "              style=\"display:none;\">\n",
              "        \n",
              "  <svg xmlns=\"http://www.w3.org/2000/svg\" height=\"24px\"viewBox=\"0 0 24 24\"\n",
              "       width=\"24px\">\n",
              "    <path d=\"M0 0h24v24H0V0z\" fill=\"none\"/>\n",
              "    <path d=\"M18.56 5.44l.94 2.06.94-2.06 2.06-.94-2.06-.94-.94-2.06-.94 2.06-2.06.94zm-11 1L8.5 8.5l.94-2.06 2.06-.94-2.06-.94L8.5 2.5l-.94 2.06-2.06.94zm10 10l.94 2.06.94-2.06 2.06-.94-2.06-.94-.94-2.06-.94 2.06-2.06.94z\"/><path d=\"M17.41 7.96l-1.37-1.37c-.4-.4-.92-.59-1.43-.59-.52 0-1.04.2-1.43.59L10.3 9.45l-7.72 7.72c-.78.78-.78 2.05 0 2.83L4 21.41c.39.39.9.59 1.41.59.51 0 1.02-.2 1.41-.59l7.78-7.78 2.81-2.81c.8-.78.8-2.07 0-2.86zM5.41 20L4 18.59l7.72-7.72 1.47 1.35L5.41 20z\"/>\n",
              "  </svg>\n",
              "      </button>\n",
              "      \n",
              "  <style>\n",
              "    .colab-df-container {\n",
              "      display:flex;\n",
              "      flex-wrap:wrap;\n",
              "      gap: 12px;\n",
              "    }\n",
              "\n",
              "    .colab-df-convert {\n",
              "      background-color: #E8F0FE;\n",
              "      border: none;\n",
              "      border-radius: 50%;\n",
              "      cursor: pointer;\n",
              "      display: none;\n",
              "      fill: #1967D2;\n",
              "      height: 32px;\n",
              "      padding: 0 0 0 0;\n",
              "      width: 32px;\n",
              "    }\n",
              "\n",
              "    .colab-df-convert:hover {\n",
              "      background-color: #E2EBFA;\n",
              "      box-shadow: 0px 1px 2px rgba(60, 64, 67, 0.3), 0px 1px 3px 1px rgba(60, 64, 67, 0.15);\n",
              "      fill: #174EA6;\n",
              "    }\n",
              "\n",
              "    [theme=dark] .colab-df-convert {\n",
              "      background-color: #3B4455;\n",
              "      fill: #D2E3FC;\n",
              "    }\n",
              "\n",
              "    [theme=dark] .colab-df-convert:hover {\n",
              "      background-color: #434B5C;\n",
              "      box-shadow: 0px 1px 3px 1px rgba(0, 0, 0, 0.15);\n",
              "      filter: drop-shadow(0px 1px 2px rgba(0, 0, 0, 0.3));\n",
              "      fill: #FFFFFF;\n",
              "    }\n",
              "  </style>\n",
              "\n",
              "      <script>\n",
              "        const buttonEl =\n",
              "          document.querySelector('#df-52788602-95de-4aa0-8143-77d79b0ff4cc button.colab-df-convert');\n",
              "        buttonEl.style.display =\n",
              "          google.colab.kernel.accessAllowed ? 'block' : 'none';\n",
              "\n",
              "        async function convertToInteractive(key) {\n",
              "          const element = document.querySelector('#df-52788602-95de-4aa0-8143-77d79b0ff4cc');\n",
              "          const dataTable =\n",
              "            await google.colab.kernel.invokeFunction('convertToInteractive',\n",
              "                                                     [key], {});\n",
              "          if (!dataTable) return;\n",
              "\n",
              "          const docLinkHtml = 'Like what you see? Visit the ' +\n",
              "            '<a target=\"_blank\" href=https://colab.research.google.com/notebooks/data_table.ipynb>data table notebook</a>'\n",
              "            + ' to learn more about interactive tables.';\n",
              "          element.innerHTML = '';\n",
              "          dataTable['output_type'] = 'display_data';\n",
              "          await google.colab.output.renderOutput(dataTable, element);\n",
              "          const docLink = document.createElement('div');\n",
              "          docLink.innerHTML = docLinkHtml;\n",
              "          element.appendChild(docLink);\n",
              "        }\n",
              "      </script>\n",
              "    </div>\n",
              "  </div>\n",
              "  "
            ]
          },
          "metadata": {},
          "execution_count": 169
        }
      ]
    },
    {
      "cell_type": "code",
      "source": [
        "X = df.drop(\"Sex\",axis=1)\n",
        "y = df[\"Sex\"]"
      ],
      "metadata": {
        "id": "rPfg9sfFgBbb"
      },
      "execution_count": 170,
      "outputs": []
    },
    {
      "cell_type": "code",
      "source": [
        "# retraining decision tree classifier with important features\n",
        "clf = DecisionTreeClassifier(max_depth=4, random_state=2)\n",
        "for fold,score in enumerate(cross_val_score(clf, X, y, cv=10),start=1):\n",
        "  print(f\"fold #{fold}  {score:.3f}\\n\")"
      ],
      "metadata": {
        "colab": {
          "base_uri": "https://localhost:8080/"
        },
        "id": "4hgWTcgRgOuT",
        "outputId": "8b854e24-9dc0-4153-f418-1661714558d8"
      },
      "execution_count": 171,
      "outputs": [
        {
          "output_type": "stream",
          "name": "stdout",
          "text": [
            "fold #1  0.467\n",
            "\n",
            "fold #2  0.512\n",
            "\n",
            "fold #3  0.629\n",
            "\n",
            "fold #4  0.536\n",
            "\n",
            "fold #5  0.541\n",
            "\n",
            "fold #6  0.512\n",
            "\n",
            "fold #7  0.615\n",
            "\n",
            "fold #8  0.523\n",
            "\n",
            "fold #9  0.600\n",
            "\n",
            "fold #10  0.566\n",
            "\n"
          ]
        }
      ]
    },
    {
      "cell_type": "code",
      "source": [
        "from sklearn.model_selection import train_test_split\n",
        "\n",
        "# splitting train 80% / test 20%\n",
        "X_train, X_test, y_train, y_test = train_test_split(X,y,test_size=0.2, random_state=3)\n",
        "\n",
        "# sampling 30% from test data for validation tuning\n",
        "test = pd.concat((X_test, y_test), axis=1)\n",
        "validation = test.sample(frac=0.3, random_state=4)"
      ],
      "metadata": {
        "id": "8rXHhSb0PYxD"
      },
      "execution_count": 172,
      "outputs": []
    },
    {
      "cell_type": "code",
      "source": [
        "from sklearn import svm\n",
        "\n",
        "clf = svm.LinearSVC()\n",
        "clf.fit(X_train, y_train)\n",
        "y_pred = clf.predict(X_test)\n",
        "print(f\"accuracy: {(y_pred == y_test).sum()/len(y_pred):0%}\")"
      ],
      "metadata": {
        "colab": {
          "base_uri": "https://localhost:8080/"
        },
        "id": "g10ugoMeQ414",
        "outputId": "f3ea687e-e42d-495f-e764-d2696cd93c50"
      },
      "execution_count": 173,
      "outputs": [
        {
          "output_type": "stream",
          "name": "stdout",
          "text": [
            "accuracy: 52.392344%\n"
          ]
        }
      ]
    },
    {
      "cell_type": "code",
      "source": [
        "# out of the box linear kernel support vector machine not predicting so well\n",
        "# let's visualize in confusion matrix\n",
        " \n",
        "from sklearn.metrics import confusion_matrix\n",
        "from sklearn.metrics import ConfusionMatrixDisplay\n",
        "\n",
        "cm = confusion_matrix(y_test, y_pred)\n",
        "cm_display = ConfusionMatrixDisplay(cm).plot()"
      ],
      "metadata": {
        "colab": {
          "base_uri": "https://localhost:8080/",
          "height": 279
        },
        "id": "379KWFU4Tljc",
        "outputId": "7cfbe397-9b2d-4ee1-cd8b-9ec826badeb0"
      },
      "execution_count": 174,
      "outputs": [
        {
          "output_type": "display_data",
          "data": {
            "text/plain": [
              "<Figure size 432x288 with 2 Axes>"
            ],
            "image/png": "[encoded data removed]"
          },
          "metadata": {
            "needs_background": "light"
          }
        }
      ]
    },
    {
      "cell_type": "code",
      "source": [
        "print(classification_report(y_test, y_pred))"
      ],
      "metadata": {
        "colab": {
          "base_uri": "https://localhost:8080/"
        },
        "id": "s4nSnb1lefbd",
        "outputId": "6c0c6ac8-db09-48b6-9747-c77d1cb96d77"
      },
      "execution_count": 175,
      "outputs": [
        {
          "output_type": "stream",
          "name": "stdout",
          "text": [
            "              precision    recall  f1-score   support\n",
            "\n",
            "           0       0.53      0.45      0.48       321\n",
            "           1       0.43      0.31      0.36       277\n",
            "           2       0.57      0.88      0.70       238\n",
            "\n",
            "    accuracy                           0.52       836\n",
            "   macro avg       0.51      0.54      0.51       836\n",
            "weighted avg       0.51      0.52      0.50       836\n",
            "\n"
          ]
        }
      ]
    },
    {
      "cell_type": "markdown",
      "source": [
        "### Review\n",
        "\n",
        "It appears the support vector machine with a linear kernel and no tuning is doing about the same as the decision trees, though it is a little less accurate than the decision tree classifiers w/o cross validation.\n",
        "\n",
        "Let's see if standard scaling and changing the kernel increases it at all."
      ],
      "metadata": {
        "id": "_WQ00pZRU4hf"
      }
    },
    {
      "cell_type": "code",
      "source": [
        "from sklearn.pipeline import make_pipeline\n",
        "from sklearn.preprocessing import StandardScaler\n",
        "\n",
        "clf = make_pipeline(StandardScaler(), svm.LinearSVC(random_state=4))\n",
        "clf.fit(X_train, y_train)\n",
        "y_pred = clf.predict(X_test)\n",
        "print(f\"accuracy: {(y_pred == y_test).sum()/len(y_pred):0%}\")"
      ],
      "metadata": {
        "colab": {
          "base_uri": "https://localhost:8080/"
        },
        "id": "UdowlRKDP9gW",
        "outputId": "92f2a3e7-e56f-4a0d-c757-106e0d4a4028"
      },
      "execution_count": 176,
      "outputs": [
        {
          "output_type": "stream",
          "name": "stdout",
          "text": [
            "accuracy: 51.913876%\n"
          ]
        }
      ]
    },
    {
      "cell_type": "code",
      "source": [
        "cm = confusion_matrix(y_test, y_pred)\n",
        "cm_display = ConfusionMatrixDisplay(cm).plot()"
      ],
      "metadata": {
        "colab": {
          "base_uri": "https://localhost:8080/",
          "height": 279
        },
        "id": "RDrS4uyCZh66",
        "outputId": "c30cbdb7-6c83-45ef-d4dd-d5991547ff15"
      },
      "execution_count": 177,
      "outputs": [
        {
          "output_type": "display_data",
          "data": {
            "text/plain": [
              "<Figure size 432x288 with 2 Axes>"
            ],
            "image/png": "[encoded data removed]"
          },
          "metadata": {
            "needs_background": "light"
          }
        }
      ]
    },
    {
      "cell_type": "code",
      "source": [
        "from sklearn.metrics import classification_report\n",
        "print(classification_report(y_test, y_pred))"
      ],
      "metadata": {
        "colab": {
          "base_uri": "https://localhost:8080/"
        },
        "id": "ziflZA1Lc5xJ",
        "outputId": "58f4a7ca-e058-4ca1-eb76-40fee6e37def"
      },
      "execution_count": 178,
      "outputs": [
        {
          "output_type": "stream",
          "name": "stdout",
          "text": [
            "              precision    recall  f1-score   support\n",
            "\n",
            "           0       0.51      0.48      0.49       321\n",
            "           1       0.42      0.27      0.33       277\n",
            "           2       0.57      0.86      0.69       238\n",
            "\n",
            "    accuracy                           0.52       836\n",
            "   macro avg       0.50      0.54      0.50       836\n",
            "weighted avg       0.50      0.52      0.50       836\n",
            "\n"
          ]
        }
      ]
    },
    {
      "cell_type": "code",
      "source": [
        "# testing radial basis function kernel\n",
        "clf = make_pipeline(StandardScaler(), svm.SVC(kernel=\"rbf\", random_state=5))\n",
        "clf.fit(X_train, y_train)\n",
        "y_pred = clf.predict(X_test)\n",
        "cm = confusion_matrix(y_test, y_pred)\n",
        "cm_display = ConfusionMatrixDisplay(cm).plot()"
      ],
      "metadata": {
        "colab": {
          "base_uri": "https://localhost:8080/",
          "height": 279
        },
        "id": "OSaJ3yjPZiE1",
        "outputId": "72d319c9-947a-4dc7-f9b4-280d49c570bb"
      },
      "execution_count": 179,
      "outputs": [
        {
          "output_type": "display_data",
          "data": {
            "text/plain": [
              "<Figure size 432x288 with 2 Axes>"
            ],
            "image/png": "[encoded data removed]"
          },
          "metadata": {
            "needs_background": "light"
          }
        }
      ]
    },
    {
      "cell_type": "code",
      "source": [
        "# rbf kernel\n",
        "print(classification_report(y_test, y_pred))"
      ],
      "metadata": {
        "colab": {
          "base_uri": "https://localhost:8080/"
        },
        "id": "UlJLv1BXdO1t",
        "outputId": "23d92158-4dc9-4bb9-ea21-6a8507a75dfa"
      },
      "execution_count": 180,
      "outputs": [
        {
          "output_type": "stream",
          "name": "stdout",
          "text": [
            "              precision    recall  f1-score   support\n",
            "\n",
            "           0       0.50      0.66      0.57       321\n",
            "           1       0.51      0.23      0.32       277\n",
            "           2       0.68      0.79      0.73       238\n",
            "\n",
            "    accuracy                           0.56       836\n",
            "   macro avg       0.56      0.56      0.54       836\n",
            "weighted avg       0.55      0.56      0.53       836\n",
            "\n"
          ]
        }
      ]
    },
    {
      "cell_type": "code",
      "source": [
        "# testing polynomial  kernel\n",
        "clf = make_pipeline(StandardScaler(), svm.SVC(kernel=\"poly\", random_state=6))\n",
        "clf.fit(X_train, y_train)\n",
        "y_pred = clf.predict(X_test)\n",
        "cm = confusion_matrix(y_test, y_pred)\n",
        "cm_display = ConfusionMatrixDisplay(cm).plot()"
      ],
      "metadata": {
        "colab": {
          "base_uri": "https://localhost:8080/",
          "height": 279
        },
        "id": "2Hev7rcAZiOd",
        "outputId": "aed77095-4c7f-472c-b0db-3e9d126b0fa7"
      },
      "execution_count": 181,
      "outputs": [
        {
          "output_type": "display_data",
          "data": {
            "text/plain": [
              "<Figure size 432x288 with 2 Axes>"
            ],
            "image/png": "[encoded data removed]"
          },
          "metadata": {
            "needs_background": "light"
          }
        }
      ]
    },
    {
      "cell_type": "code",
      "source": [
        "# polynomial kernel\n",
        "print(classification_report(y_test, y_pred))"
      ],
      "metadata": {
        "colab": {
          "base_uri": "https://localhost:8080/"
        },
        "id": "8N4v31VYdRqM",
        "outputId": "bf5ff531-c9cf-4702-fe46-2bbd4d4cd1e9"
      },
      "execution_count": 182,
      "outputs": [
        {
          "output_type": "stream",
          "name": "stdout",
          "text": [
            "              precision    recall  f1-score   support\n",
            "\n",
            "           0       0.46      0.93      0.62       321\n",
            "           1       0.58      0.03      0.05       277\n",
            "           2       0.79      0.59      0.68       238\n",
            "\n",
            "    accuracy                           0.53       836\n",
            "   macro avg       0.61      0.52      0.45       836\n",
            "weighted avg       0.60      0.53      0.45       836\n",
            "\n"
          ]
        }
      ]
    },
    {
      "cell_type": "code",
      "source": [
        "# testing libsvm 'linear' kernel\n",
        "clf = make_pipeline(StandardScaler(), svm.SVC(kernel=\"linear\", random_state=7))\n",
        "clf.fit(X_train, y_train)\n",
        "y_pred = clf.predict(X_test)\n",
        "cm = confusion_matrix(y_test, y_pred)\n",
        "cm_display = ConfusionMatrixDisplay(cm).plot()"
      ],
      "metadata": {
        "colab": {
          "base_uri": "https://localhost:8080/",
          "height": 279
        },
        "id": "yCi1wypSbkyz",
        "outputId": "718a626a-259f-4d1c-cef5-795792ed179d"
      },
      "execution_count": 183,
      "outputs": [
        {
          "output_type": "display_data",
          "data": {
            "text/plain": [
              "<Figure size 432x288 with 2 Axes>"
            ],
            "image/png": "[encoded data removed]"
          },
          "metadata": {
            "needs_background": "light"
          }
        }
      ]
    },
    {
      "cell_type": "code",
      "source": [
        "# libsvm linear kernel\n",
        "print(classification_report(y_test, y_pred))"
      ],
      "metadata": {
        "colab": {
          "base_uri": "https://localhost:8080/"
        },
        "id": "f2avDM4ZdZ_x",
        "outputId": "98df3218-7ad7-4fd7-8783-1533f13c5a7f"
      },
      "execution_count": 184,
      "outputs": [
        {
          "output_type": "stream",
          "name": "stdout",
          "text": [
            "              precision    recall  f1-score   support\n",
            "\n",
            "           0       0.50      0.65      0.56       321\n",
            "           1       0.49      0.16      0.24       277\n",
            "           2       0.61      0.84      0.70       238\n",
            "\n",
            "    accuracy                           0.54       836\n",
            "   macro avg       0.53      0.55      0.50       836\n",
            "weighted avg       0.53      0.54      0.49       836\n",
            "\n"
          ]
        }
      ]
    },
    {
      "cell_type": "markdown",
      "source": [
        "### Review 2 \n",
        "\n",
        "It appears the accuracy does adjust with the change of kernel and scaling, before tuning hyperparameters, it appears that the 'rbf' kernel under libsvm is producing the highest accuracy score of the bunch.\n",
        "\n",
        "Let's hyperparameter tune for this configuration and see if it can get better. "
      ],
      "metadata": {
        "id": "zyFKuU7vb48o"
      }
    },
    {
      "cell_type": "code",
      "source": [
        "from sklearn.pipeline import Pipeline\n",
        "from sklearn.model_selection import GridSearchCV\n",
        "\n",
        "params = {\n",
        "    \"svm__C\": [0.01, 0.1, 1, 10, 100],\n",
        "    \"svm__gamma\": [1, 0.1, 0.01, 0.001],\n",
        "    \"svm__tol\": [1e-3, 1e-4, 1e-5],\n",
        "}\n",
        "\n",
        "pipe = Pipeline(steps=[(\"scaler\", StandardScaler()), (\"svm\", svm.SVC(kernel=\"rbf\",decision_function_shape=\"ovr\"))])\n",
        "clf = GridSearchCV(pipe, params, refit = True)\n",
        "clf.fit(X_train, y_train)\n",
        "print(clf.best_estimator_)"
      ],
      "metadata": {
        "colab": {
          "base_uri": "https://localhost:8080/"
        },
        "id": "zgB_nmwJZiXK",
        "outputId": "98a3d87b-f2f9-48b3-cba0-5ee65003ba29"
      },
      "execution_count": 203,
      "outputs": [
        {
          "output_type": "stream",
          "name": "stdout",
          "text": [
            "Pipeline(steps=[('scaler', StandardScaler()), ('svm', SVC(C=10, gamma=0.01))])\n"
          ]
        }
      ]
    },
    {
      "cell_type": "code",
      "source": [
        "clf = make_pipeline(StandardScaler(), svm.SVC(C=10, gamma=0.01))\n",
        "clf.fit(X_train, y_train)\n",
        "y_pred = clf.predict(X_test)\n",
        "cm = confusion_matrix(y_test, y_pred)\n",
        "cm_display = ConfusionMatrixDisplay(cm).plot()"
      ],
      "metadata": {
        "colab": {
          "base_uri": "https://localhost:8080/",
          "height": 279
        },
        "id": "7tkSds8Hg8IL",
        "outputId": "0fa7f6ca-8a6b-4475-e1bd-e9f383b5e97f"
      },
      "execution_count": 205,
      "outputs": [
        {
          "output_type": "display_data",
          "data": {
            "text/plain": [
              "<Figure size 432x288 with 2 Axes>"
            ],
            "image/png": "[encoded data removed]"
          },
          "metadata": {
            "needs_background": "light"
          }
        }
      ]
    },
    {
      "cell_type": "code",
      "source": [
        "# libsvm linear kernel\n",
        "print(classification_report(y_test, y_pred))"
      ],
      "metadata": {
        "colab": {
          "base_uri": "https://localhost:8080/"
        },
        "id": "_rGcHMuwg8yi",
        "outputId": "2fc39369-8382-4538-e824-7009514e0a70"
      },
      "execution_count": 206,
      "outputs": [
        {
          "output_type": "stream",
          "name": "stdout",
          "text": [
            "              precision    recall  f1-score   support\n",
            "\n",
            "           0       0.49      0.67      0.57       321\n",
            "           1       0.49      0.16      0.24       277\n",
            "           2       0.63      0.82      0.72       238\n",
            "\n",
            "    accuracy                           0.54       836\n",
            "   macro avg       0.54      0.55      0.51       836\n",
            "weighted avg       0.53      0.54      0.50       836\n",
            "\n"
          ]
        }
      ]
    },
    {
      "cell_type": "code",
      "source": [
        "def relative_accuracy(lab: 'label'):\n",
        "  right = total = 0\n",
        "  for a,p in zip(y_test,y_pred):\n",
        "    if a==lab and p==lab:\n",
        "      right += 1\n",
        "    if a==lab:\n",
        "      total += 1\n",
        "  return f\"{right/total:0%}\"\n",
        "\n",
        "male_acc = relative_accuracy(lab=0)\n",
        "female_acc = relative_accuracy(lab=1)\n",
        "infant_acc = relative_accuracy(lab=2)\n",
        "\n",
        "print(f\"Male Accuracy (%) {male_acc}\")\n",
        "print(f\"Female Accuracy (%) {female_acc}\")\n",
        "print(f\"Infant Accuracy (%) {infant_acc}\")"
      ],
      "metadata": {
        "colab": {
          "base_uri": "https://localhost:8080/"
        },
        "id": "rhzHIXdtnDxL",
        "outputId": "d6924026-0616-42ff-d10f-46de963f7534"
      },
      "execution_count": 227,
      "outputs": [
        {
          "output_type": "stream",
          "name": "stdout",
          "text": [
            "Male Accuracy (%) 66.978193%\n",
            "Female Accuracy (%) 15.523466%\n",
            "Infant Accuracy (%) 82.352941%\n"
          ]
        }
      ]
    },
    {
      "cell_type": "markdown",
      "source": [
        "### Review 3\n",
        "\n",
        "It appears the overall accuracy dropped a tad after hyperparameter tuning. However, the measure of relative accuracy shows the model is better at predicting infant and male abalone more so than the females accurately. \n",
        "\n",
        "Let's break this multi-label classification problems into a series of binary classifications: label vs no label, where label is one of \n",
        "\n",
        "``` {'male','female','infant'} ```\n",
        "\n",
        "with this we can examine the relative performance between each once more, while exploring another classification model such as logistic regression.\n",
        "\n"
      ],
      "metadata": {
        "id": "oMB_Ql7TpQiZ"
      }
    },
    {
      "cell_type": "code",
      "source": [
        "# making new datasets \n",
        "df2 = pd.read_csv(\"abalone.data\", header=None)\n",
        "\n",
        "# transforming columns into names from abalone.names\n",
        "df2.columns = pd.Index([\"Sex\",\"Length\",\"Diameter\",\"Height\",\"Whole_Weight\",\"Shucked_Weight\",\"Viscera_Weight\",\"Shell_Weight\",\"Rings\"])\n",
        "\n",
        "df2.head()"
      ],
      "metadata": {
        "colab": {
          "base_uri": "https://localhost:8080/",
          "height": 206
        },
        "id": "b7n9jp5llX7b",
        "outputId": "dc8cf3f9-5fc9-4065-e287-149f2e46657e"
      },
      "execution_count": 230,
      "outputs": [
        {
          "output_type": "execute_result",
          "data": {
            "text/plain": [
              "  Sex  Length  Diameter  Height  Whole_Weight  Shucked_Weight  Viscera_Weight  \\\n",
              "0   M   0.455     0.365   0.095        0.5140          0.2245          0.1010   \n",
              "1   M   0.350     0.265   0.090        0.2255          0.0995          0.0485   \n",
              "2   F   0.530     0.420   0.135        0.6770          0.2565          0.1415   \n",
              "3   M   0.440     0.365   0.125        0.5160          0.2155          0.1140   \n",
              "4   I   0.330     0.255   0.080        0.2050          0.0895          0.0395   \n",
              "\n",
              "   Shell_Weight  Rings  \n",
              "0         0.150     15  \n",
              "1         0.070      7  \n",
              "2         0.210      9  \n",
              "3         0.155     10  \n",
              "4         0.055      7  "
            ],
            "text/html": [
              "\n",
              "  <div id=\"df-74d9f501-9fa0-46e2-9b99-0f3f0aa44e5a\">\n",
              "    <div class=\"colab-df-container\">\n",
              "      <div>\n",
              "<style scoped>\n",
              "    .dataframe tbody tr th:only-of-type {\n",
              "        vertical-align: middle;\n",
              "    }\n",
              "\n",
              "    .dataframe tbody tr th {\n",
              "        vertical-align: top;\n",
              "    }\n",
              "\n",
              "    .dataframe thead th {\n",
              "        text-align: right;\n",
              "    }\n",
              "</style>\n",
              "<table border=\"1\" class=\"dataframe\">\n",
              "  <thead>\n",
              "    <tr style=\"text-align: right;\">\n",
              "      <th></th>\n",
              "      <th>Sex</th>\n",
              "      <th>Length</th>\n",
              "      <th>Diameter</th>\n",
              "      <th>Height</th>\n",
              "      <th>Whole_Weight</th>\n",
              "      <th>Shucked_Weight</th>\n",
              "      <th>Viscera_Weight</th>\n",
              "      <th>Shell_Weight</th>\n",
              "      <th>Rings</th>\n",
              "    </tr>\n",
              "  </thead>\n",
              "  <tbody>\n",
              "    <tr>\n",
              "      <th>0</th>\n",
              "      <td>M</td>\n",
              "      <td>0.455</td>\n",
              "      <td>0.365</td>\n",
              "      <td>0.095</td>\n",
              "      <td>0.5140</td>\n",
              "      <td>0.2245</td>\n",
              "      <td>0.1010</td>\n",
              "      <td>0.150</td>\n",
              "      <td>15</td>\n",
              "    </tr>\n",
              "    <tr>\n",
              "      <th>1</th>\n",
              "      <td>M</td>\n",
              "      <td>0.350</td>\n",
              "      <td>0.265</td>\n",
              "      <td>0.090</td>\n",
              "      <td>0.2255</td>\n",
              "      <td>0.0995</td>\n",
              "      <td>0.0485</td>\n",
              "      <td>0.070</td>\n",
              "      <td>7</td>\n",
              "    </tr>\n",
              "    <tr>\n",
              "      <th>2</th>\n",
              "      <td>F</td>\n",
              "      <td>0.530</td>\n",
              "      <td>0.420</td>\n",
              "      <td>0.135</td>\n",
              "      <td>0.6770</td>\n",
              "      <td>0.2565</td>\n",
              "      <td>0.1415</td>\n",
              "      <td>0.210</td>\n",
              "      <td>9</td>\n",
              "    </tr>\n",
              "    <tr>\n",
              "      <th>3</th>\n",
              "      <td>M</td>\n",
              "      <td>0.440</td>\n",
              "      <td>0.365</td>\n",
              "      <td>0.125</td>\n",
              "      <td>0.5160</td>\n",
              "      <td>0.2155</td>\n",
              "      <td>0.1140</td>\n",
              "      <td>0.155</td>\n",
              "      <td>10</td>\n",
              "    </tr>\n",
              "    <tr>\n",
              "      <th>4</th>\n",
              "      <td>I</td>\n",
              "      <td>0.330</td>\n",
              "      <td>0.255</td>\n",
              "      <td>0.080</td>\n",
              "      <td>0.2050</td>\n",
              "      <td>0.0895</td>\n",
              "      <td>0.0395</td>\n",
              "      <td>0.055</td>\n",
              "      <td>7</td>\n",
              "    </tr>\n",
              "  </tbody>\n",
              "</table>\n",
              "</div>\n",
              "      <button class=\"colab-df-convert\" onclick=\"convertToInteractive('df-74d9f501-9fa0-46e2-9b99-0f3f0aa44e5a')\"\n",
              "              title=\"Convert this dataframe to an interactive table.\"\n",
              "              style=\"display:none;\">\n",
              "        \n",
              "  <svg xmlns=\"http://www.w3.org/2000/svg\" height=\"24px\"viewBox=\"0 0 24 24\"\n",
              "       width=\"24px\">\n",
              "    <path d=\"M0 0h24v24H0V0z\" fill=\"none\"/>\n",
              "    <path d=\"M18.56 5.44l.94 2.06.94-2.06 2.06-.94-2.06-.94-.94-2.06-.94 2.06-2.06.94zm-11 1L8.5 8.5l.94-2.06 2.06-.94-2.06-.94L8.5 2.5l-.94 2.06-2.06.94zm10 10l.94 2.06.94-2.06 2.06-.94-2.06-.94-.94-2.06-.94 2.06-2.06.94z\"/><path d=\"M17.41 7.96l-1.37-1.37c-.4-.4-.92-.59-1.43-.59-.52 0-1.04.2-1.43.59L10.3 9.45l-7.72 7.72c-.78.78-.78 2.05 0 2.83L4 21.41c.39.39.9.59 1.41.59.51 0 1.02-.2 1.41-.59l7.78-7.78 2.81-2.81c.8-.78.8-2.07 0-2.86zM5.41 20L4 18.59l7.72-7.72 1.47 1.35L5.41 20z\"/>\n",
              "  </svg>\n",
              "      </button>\n",
              "      \n",
              "  <style>\n",
              "    .colab-df-container {\n",
              "      display:flex;\n",
              "      flex-wrap:wrap;\n",
              "      gap: 12px;\n",
              "    }\n",
              "\n",
              "    .colab-df-convert {\n",
              "      background-color: #E8F0FE;\n",
              "      border: none;\n",
              "      border-radius: 50%;\n",
              "      cursor: pointer;\n",
              "      display: none;\n",
              "      fill: #1967D2;\n",
              "      height: 32px;\n",
              "      padding: 0 0 0 0;\n",
              "      width: 32px;\n",
              "    }\n",
              "\n",
              "    .colab-df-convert:hover {\n",
              "      background-color: #E2EBFA;\n",
              "      box-shadow: 0px 1px 2px rgba(60, 64, 67, 0.3), 0px 1px 3px 1px rgba(60, 64, 67, 0.15);\n",
              "      fill: #174EA6;\n",
              "    }\n",
              "\n",
              "    [theme=dark] .colab-df-convert {\n",
              "      background-color: #3B4455;\n",
              "      fill: #D2E3FC;\n",
              "    }\n",
              "\n",
              "    [theme=dark] .colab-df-convert:hover {\n",
              "      background-color: #434B5C;\n",
              "      box-shadow: 0px 1px 3px 1px rgba(0, 0, 0, 0.15);\n",
              "      filter: drop-shadow(0px 1px 2px rgba(0, 0, 0, 0.3));\n",
              "      fill: #FFFFFF;\n",
              "    }\n",
              "  </style>\n",
              "\n",
              "      <script>\n",
              "        const buttonEl =\n",
              "          document.querySelector('#df-74d9f501-9fa0-46e2-9b99-0f3f0aa44e5a button.colab-df-convert');\n",
              "        buttonEl.style.display =\n",
              "          google.colab.kernel.accessAllowed ? 'block' : 'none';\n",
              "\n",
              "        async function convertToInteractive(key) {\n",
              "          const element = document.querySelector('#df-74d9f501-9fa0-46e2-9b99-0f3f0aa44e5a');\n",
              "          const dataTable =\n",
              "            await google.colab.kernel.invokeFunction('convertToInteractive',\n",
              "                                                     [key], {});\n",
              "          if (!dataTable) return;\n",
              "\n",
              "          const docLinkHtml = 'Like what you see? Visit the ' +\n",
              "            '<a target=\"_blank\" href=https://colab.research.google.com/notebooks/data_table.ipynb>data table notebook</a>'\n",
              "            + ' to learn more about interactive tables.';\n",
              "          element.innerHTML = '';\n",
              "          dataTable['output_type'] = 'display_data';\n",
              "          await google.colab.output.renderOutput(dataTable, element);\n",
              "          const docLink = document.createElement('div');\n",
              "          docLink.innerHTML = docLinkHtml;\n",
              "          element.appendChild(docLink);\n",
              "        }\n",
              "      </script>\n",
              "    </div>\n",
              "  </div>\n",
              "  "
            ]
          },
          "metadata": {},
          "execution_count": 230
        }
      ]
    },
    {
      "cell_type": "code",
      "source": [
        "def break_into_sexes(frame, sex: str):\n",
        "  \"\"\"\n",
        "  breaks up the individual sexes {\"M\",\"F\",\"I\"}\n",
        "  into there own dataframes so that binary classification\n",
        "  can take place.\n",
        "  \"\"\"\n",
        "  sex_mask = frame[\"Sex\"]==sex\n",
        "  sex = frame[sex_mask]\n",
        "  not_sex = frame[~sex_mask]\n",
        "  not_sex[\"Sex\"]=0\n",
        "  sex[\"Sex\"]=1\n",
        "  sex_df = pd.concat([sex, not_sex],axis=0)\n",
        "  sex_df.index = np.arange(0,len(sex_df))\n",
        "  return sex_df"
      ],
      "metadata": {
        "id": "u9kMeWoIkYf6"
      },
      "execution_count": 261,
      "outputs": []
    },
    {
      "cell_type": "code",
      "source": [
        "# male dataframe with males as 1 / rest as 0\n",
        "male_df = break_into_sexes(df2, sex=\"M\")\n",
        "\n",
        "# female dataframe with females as 1 / rest as 0 \n",
        "female_df = break_into_sexes(df2, sex=\"F\")\n",
        "\n",
        "# infant dataframe with infants as 1 / rest as 0\n",
        "infant_df = break_into_sexes(df2, sex=\"I\")"
      ],
      "metadata": {
        "id": "_Cm8luwItiVk"
      },
      "execution_count": 264,
      "outputs": []
    },
    {
      "cell_type": "markdown",
      "source": [
        "### Logistic Regression\n",
        "\n",
        "Now that the sexes have been split into their own corresponding dataframes. I will use a logistic regression on each dataframe to evaluate how well the model is able to guess the appropriate sex.\n",
        "\n",
        "I will compare this with the above relativistic accuracy measure from before to see if we get similar or better results."
      ],
      "metadata": {
        "id": "nA52gJWDuCQ6"
      }
    },
    {
      "cell_type": "markdown",
      "source": [
        "#### Handling Class Imbalance\n",
        "\n",
        "Since each sex has now been broken into its own dataset to explore the relative accuracy measure of predicting each, there is bound to be class imbalance. To avoid wrong measure of accuracy, I will balance the classes of each between minority and majority."
      ],
      "metadata": {
        "id": "g51aNo-CvpyM"
      }
    },
    {
      "cell_type": "code",
      "source": [
        "# check for imbalance for male as its probably there\n",
        "_ = sns.countplot(male_df[\"Sex\"])\n",
        "plt.title(\"Class Imbalance for Male\")\n",
        "_ = plt.show()"
      ],
      "metadata": {
        "colab": {
          "base_uri": "https://localhost:8080/",
          "height": 295
        },
        "id": "uj2Klo2Lr8Cz",
        "outputId": "01b7cdff-3cb1-412c-dd13-8a2cb7e37539"
      },
      "execution_count": 272,
      "outputs": [
        {
          "output_type": "display_data",
          "data": {
            "text/plain": [
              "<Figure size 432x288 with 1 Axes>"
            ],
            "image/png": "[encoded data removed]"
          },
          "metadata": {
            "needs_background": "light"
          }
        }
      ]
    },
    {
      "cell_type": "code",
      "source": [
        "# there is some imbalance between the classes, let's oversample the data to balance\n",
        "from imblearn.over_sampling import SMOTE\n",
        "\n",
        "X_male = male_df.drop(\"Sex\",axis=1)\n",
        "y_male = male_df[\"Sex\"]\n",
        "\n",
        "male_sm = SMOTE(random_state=100)\n",
        "X_male,y_male = male_sm.fit_resample(X_male,y_male)\n",
        "\n",
        "_ = sns.countplot(y_male)\n",
        "plt.title(\"Class Balanced for Male\")\n",
        "_ = plt.show()"
      ],
      "metadata": {
        "colab": {
          "base_uri": "https://localhost:8080/",
          "height": 295
        },
        "id": "RaUoBn0yulyN",
        "outputId": "eb84f4f9-cf20-4c97-acbf-1e121768073d"
      },
      "execution_count": 283,
      "outputs": [
        {
          "output_type": "display_data",
          "data": {
            "text/plain": [
              "<Figure size 432x288 with 1 Axes>"
            ],
            "image/png": "[encoded data removed]"
          },
          "metadata": {
            "needs_background": "light"
          }
        }
      ]
    },
    {
      "cell_type": "code",
      "source": [
        "# check for imbalance for female as its probably there\n",
        "_ = sns.countplot(female_df[\"Sex\"])\n",
        "plt.title(\"Class Imbalance for Female\")\n",
        "_ = plt.show()"
      ],
      "metadata": {
        "colab": {
          "base_uri": "https://localhost:8080/",
          "height": 295
        },
        "id": "Nk-S5lNhv6f9",
        "outputId": "2ba28a3f-c961-41bc-c744-eb3d9c9aa410"
      },
      "execution_count": 275,
      "outputs": [
        {
          "output_type": "display_data",
          "data": {
            "text/plain": [
              "<Figure size 432x288 with 1 Axes>"
            ],
            "image/png": "[encoded data removed]"
          },
          "metadata": {
            "needs_background": "light"
          }
        }
      ]
    },
    {
      "cell_type": "code",
      "source": [
        "# there is some imbalance between the classes, let's oversample the data to balance\n",
        "X_female = female_df.drop(\"Sex\",axis=1)\n",
        "y_female = female_df[\"Sex\"]\n",
        "\n",
        "female_sm = SMOTE(random_state=100)\n",
        "X_female,y_female = female_sm.fit_resample(X_female,y_female)\n",
        "\n",
        "_ = sns.countplot(y_female)\n",
        "plt.title(\"Class Balanced for Female\")\n",
        "_ = plt.show()"
      ],
      "metadata": {
        "colab": {
          "base_uri": "https://localhost:8080/",
          "height": 295
        },
        "id": "n1mChikxs070",
        "outputId": "bc8d9225-1c53-49cb-c9d2-8ac6af83e936"
      },
      "execution_count": 282,
      "outputs": [
        {
          "output_type": "display_data",
          "data": {
            "text/plain": [
              "<Figure size 432x288 with 1 Axes>"
            ],
            "image/png": "[encoded data removed]"
          },
          "metadata": {
            "needs_background": "light"
          }
        }
      ]
    },
    {
      "cell_type": "code",
      "source": [
        "# check for imbalance for infant as its probably there\n",
        "_ = sns.countplot(infant_df[\"Sex\"])\n",
        "plt.title(\"Class Imbalance for Infant\")\n",
        "_ = plt.show()"
      ],
      "metadata": {
        "colab": {
          "base_uri": "https://localhost:8080/",
          "height": 295
        },
        "id": "NaLycrdXwSMv",
        "outputId": "29ede3ff-2260-4a21-c1d1-eb2cfbcd64de"
      },
      "execution_count": 278,
      "outputs": [
        {
          "output_type": "display_data",
          "data": {
            "text/plain": [
              "<Figure size 432x288 with 1 Axes>"
            ],
            "image/png": "[encoded data removed]"
          },
          "metadata": {
            "needs_background": "light"
          }
        }
      ]
    },
    {
      "cell_type": "code",
      "source": [
        "# there is some imbalance between the classes, let's oversample the data to balance\n",
        "X_infant = infant_df.drop(\"Sex\",axis=1)\n",
        "y_infant = infant_df[\"Sex\"]\n",
        "\n",
        "infant_sm = SMOTE(random_state=100)\n",
        "X_infant,y_infant = infant_sm.fit_resample(X_infant,y_infant)\n",
        "\n",
        "_ = sns.countplot(y_infant)\n",
        "plt.title(\"Class Balanced for Infant\")\n",
        "_ = plt.show()"
      ],
      "metadata": {
        "colab": {
          "base_uri": "https://localhost:8080/",
          "height": 295
        },
        "id": "uaVALpvuwZBn",
        "outputId": "b4da2e39-2325-4fee-9bad-b339c7a2d59d"
      },
      "execution_count": 284,
      "outputs": [
        {
          "output_type": "display_data",
          "data": {
            "text/plain": [
              "<Figure size 432x288 with 1 Axes>"
            ],
            "image/png": "[encoded data removed]"
          },
          "metadata": {
            "needs_background": "light"
          }
        }
      ]
    },
    {
      "cell_type": "markdown",
      "source": [
        "Male Abalone Exploration \n",
        "\n",
        "- In this section I'm going to explore binary classification between male and non-male abalone records to see if a model can accurately predict the difference.\n",
        "\n",
        "- Here confusion matrix and ROC AUC will be used to measure the model's ability to distinguish "
      ],
      "metadata": {
        "id": "9uhqAiN3w3j8"
      }
    },
    {
      "cell_type": "code",
      "source": [
        "from sklearn.metrics import RocCurveDisplay\n",
        "\n",
        "def plot_roc(y_test, y_pred, title=\"\", legend=\"\"):\n",
        "    RocCurveDisplay.from_predictions(y_test, y_pred, name=legend)\n",
        "    plt.title(title)\n",
        "    plt.show()"
      ],
      "metadata": {
        "id": "7Y-GyVjL1dYI"
      },
      "execution_count": 302,
      "outputs": []
    },
    {
      "cell_type": "code",
      "source": [
        "X_male_train, X_male_test, y_male_train, y_male_test = train_test_split(X_male, y_male, test_size=0.2, random_state=33)"
      ],
      "metadata": {
        "id": "h_V6lvSXxGzL"
      },
      "execution_count": 286,
      "outputs": []
    },
    {
      "cell_type": "code",
      "source": [
        "from sklearn.linear_model import LogisticRegression\n",
        "\n",
        "clf = LogisticRegression().fit(X_male_train, y_male_train)\n",
        "y_male_pred = clf.predict(X_male_test)\n",
        "print(classification_report(y_male_test, y_male_pred))"
      ],
      "metadata": {
        "colab": {
          "base_uri": "https://localhost:8080/"
        },
        "id": "7JoxhuSixpWr",
        "outputId": "f98c5b81-d066-48e2-d510-4969616753aa"
      },
      "execution_count": 288,
      "outputs": [
        {
          "output_type": "stream",
          "name": "stdout",
          "text": [
            "              precision    recall  f1-score   support\n",
            "\n",
            "           0       0.62      0.60      0.61       538\n",
            "           1       0.61      0.63      0.62       522\n",
            "\n",
            "    accuracy                           0.62      1060\n",
            "   macro avg       0.62      0.62      0.62      1060\n",
            "weighted avg       0.62      0.62      0.62      1060\n",
            "\n"
          ]
        }
      ]
    },
    {
      "cell_type": "code",
      "source": [
        "cm = confusion_matrix(y_male_test, y_male_pred)\n",
        "cm_display = ConfusionMatrixDisplay(cm).plot()"
      ],
      "metadata": {
        "colab": {
          "base_uri": "https://localhost:8080/",
          "height": 279
        },
        "id": "PN0ifFK2yzX4",
        "outputId": "7ae8471d-857b-4ae8-d433-9cc4cf6e694e"
      },
      "execution_count": 291,
      "outputs": [
        {
          "output_type": "display_data",
          "data": {
            "text/plain": [
              "<Figure size 432x288 with 2 Axes>"
            ],
            "image/png": "[encoded data removed]"
          },
          "metadata": {
            "needs_background": "light"
          }
        }
      ]
    },
    {
      "cell_type": "code",
      "source": [
        "plot_roc(y_male_test, y_male_pred, title=\"Male ROC AUC\", legend=\"Logistic Regression\")"
      ],
      "metadata": {
        "colab": {
          "base_uri": "https://localhost:8080/",
          "height": 295
        },
        "id": "RNMHC8M1xJJs",
        "outputId": "8d296f50-9b0d-4f77-a4ee-542462c40ff7"
      },
      "execution_count": 303,
      "outputs": [
        {
          "output_type": "display_data",
          "data": {
            "text/plain": [
              "<Figure size 432x288 with 1 Axes>"
            ],
            "image/png": "[encoded data removed]"
          },
          "metadata": {
            "needs_background": "light"
          }
        }
      ]
    },
    {
      "cell_type": "markdown",
      "source": [
        "Female Abalone Exploration \n",
        "\n",
        "- In this section I'm going to explore binary classification between female and non-female abalone records to see if a model can accurately predict the difference.\n",
        "\n",
        "- Here confusion matrix and ROC AUC will be used to measure the model's ability to distinguish "
      ],
      "metadata": {
        "id": "wcp8xyuly_5P"
      }
    },
    {
      "cell_type": "code",
      "source": [
        "X_female_train, X_female_test, y_female_train, y_female_test = train_test_split(X_female, y_female, test_size=0.2, random_state=44)"
      ],
      "metadata": {
        "id": "Cc8ynOvDzGYO"
      },
      "execution_count": 292,
      "outputs": []
    },
    {
      "cell_type": "code",
      "source": [
        "clf = LogisticRegression().fit(X_female_train, y_female_train)\n",
        "y_female_pred = clf.predict(X_female_test)\n",
        "print(classification_report(y_female_test, y_female_pred))"
      ],
      "metadata": {
        "colab": {
          "base_uri": "https://localhost:8080/"
        },
        "id": "28FIK2QlzGhO",
        "outputId": "08b1f294-e714-4250-c132-2e644eafb90d"
      },
      "execution_count": 293,
      "outputs": [
        {
          "output_type": "stream",
          "name": "stdout",
          "text": [
            "              precision    recall  f1-score   support\n",
            "\n",
            "           0       0.69      0.56      0.62       587\n",
            "           1       0.62      0.73      0.67       561\n",
            "\n",
            "    accuracy                           0.64      1148\n",
            "   macro avg       0.65      0.65      0.64      1148\n",
            "weighted avg       0.65      0.64      0.64      1148\n",
            "\n"
          ]
        }
      ]
    },
    {
      "cell_type": "code",
      "source": [
        "cm = confusion_matrix(y_female_test, y_female_pred)\n",
        "cm_display = ConfusionMatrixDisplay(cm).plot()"
      ],
      "metadata": {
        "colab": {
          "base_uri": "https://localhost:8080/",
          "height": 279
        },
        "id": "WfcMz5aLzYGy",
        "outputId": "9a0c6e6f-f522-4ce8-83d0-13c451dcdf32"
      },
      "execution_count": 294,
      "outputs": [
        {
          "output_type": "display_data",
          "data": {
            "text/plain": [
              "<Figure size 432x288 with 2 Axes>"
            ],
            "image/png": "[encoded data removed]"
          },
          "metadata": {
            "needs_background": "light"
          }
        }
      ]
    },
    {
      "cell_type": "code",
      "source": [
        "plot_roc(y_female_test, y_female_pred, title=\"Female ROC AUC\", legend=\"Logistic Regression\")"
      ],
      "metadata": {
        "colab": {
          "base_uri": "https://localhost:8080/",
          "height": 295
        },
        "id": "ZvXMf0KazGoL",
        "outputId": "09d01df0-7d5c-4e2c-9e24-8e1985c68318"
      },
      "execution_count": 304,
      "outputs": [
        {
          "output_type": "display_data",
          "data": {
            "text/plain": [
              "<Figure size 432x288 with 1 Axes>"
            ],
            "image/png": "[encoded data removed]"
          },
          "metadata": {
            "needs_background": "light"
          }
        }
      ]
    },
    {
      "cell_type": "markdown",
      "source": [
        "Infant Abalone Exploration \n",
        "\n",
        "- In this section I'm going to explore binary classification between Infant and non-Infant abalone records to see if a model can accurately predict the difference.\n",
        "\n",
        "- Here confusion matrix and ROC AUC will be used to measure the model's ability to distinguish "
      ],
      "metadata": {
        "id": "HH4Np3wlzbuV"
      }
    },
    {
      "cell_type": "code",
      "source": [
        "X_infant_train, X_infant_test, y_infant_train, y_infant_test = train_test_split(X_infant, y_infant, test_size=0.2, random_state=55)"
      ],
      "metadata": {
        "id": "tmMeg9XWzhGM"
      },
      "execution_count": 295,
      "outputs": []
    },
    {
      "cell_type": "code",
      "source": [
        "clf = LogisticRegression().fit(X_infant_train, y_infant_train)\n",
        "y_infant_pred = clf.predict(X_infant_test)\n",
        "print(classification_report(y_infant_test, y_infant_pred))"
      ],
      "metadata": {
        "colab": {
          "base_uri": "https://localhost:8080/"
        },
        "id": "HlH1lDmRzq3q",
        "outputId": "6eab4fd8-a3eb-44f6-93dc-fd9adcf929a9"
      },
      "execution_count": 296,
      "outputs": [
        {
          "output_type": "stream",
          "name": "stdout",
          "text": [
            "              precision    recall  f1-score   support\n",
            "\n",
            "           0       0.84      0.78      0.81       588\n",
            "           1       0.78      0.84      0.81       546\n",
            "\n",
            "    accuracy                           0.81      1134\n",
            "   macro avg       0.81      0.81      0.81      1134\n",
            "weighted avg       0.81      0.81      0.81      1134\n",
            "\n"
          ]
        }
      ]
    },
    {
      "cell_type": "code",
      "source": [
        "cm = confusion_matrix(y_infant_test, y_infant_pred)\n",
        "cm_display = ConfusionMatrixDisplay(cm).plot()"
      ],
      "metadata": {
        "colab": {
          "base_uri": "https://localhost:8080/",
          "height": 279
        },
        "id": "Mw-Ph3gxz22J",
        "outputId": "15e731e9-f579-4dc8-8609-0754f4592406"
      },
      "execution_count": 298,
      "outputs": [
        {
          "output_type": "display_data",
          "data": {
            "text/plain": [
              "<Figure size 432x288 with 2 Axes>"
            ],
            "image/png": "[encoded data removed]"
          },
          "metadata": {
            "needs_background": "light"
          }
        }
      ]
    },
    {
      "cell_type": "code",
      "source": [
        "plot_roc(y_infant_test, y_infant_pred, title=\"Infant ROC AUC\", legend=\"Logistic Regression\")"
      ],
      "metadata": {
        "colab": {
          "base_uri": "https://localhost:8080/",
          "height": 295
        },
        "id": "MhDlN_SlzvU2",
        "outputId": "a0a2d149-24f9-4d08-da5e-45789de0df8f"
      },
      "execution_count": 306,
      "outputs": [
        {
          "output_type": "display_data",
          "data": {
            "text/plain": [
              "<Figure size 432x288 with 1 Axes>"
            ],
            "image/png": "[encoded data removed]"
          },
          "metadata": {
            "needs_background": "light"
          }
        }
      ]
    },
    {
      "cell_type": "markdown",
      "source": [
        "### Review 4\n",
        "\n",
        "It appears that logistic regression is a fairly good model for predicting in binary classification scenarios. Since breaking up the dataset into individual sexes and marking the \"Sex\" column to hold only one of two values (1 - indicative sex, 0 - other sex), the accuracy score has went up across the board for all of the sexes.\n",
        "\n",
        "Still it appears that that infant dataset has the highest marks of the three with respect to the classification report metrics and auc. Which is really interesting even after the classes were balanced. There's something about that data that seems bias (possibly) towards infantile measures. \n",
        "\n"
      ],
      "metadata": {
        "id": "yW3c1J6f2WX8"
      }
    },
    {
      "cell_type": "markdown",
      "source": [
        "## Conclusion\n",
        "\n",
        "I began the exploration of this dataset with cross validation using a decision tree classifier to calculate feature importance. From there I used the top 5 features as independent features that would later predict the 'Sex' column in a multi-class classification problem.\n",
        "\n",
        "For this I chose to explore more with a support vector machine using a variety of kernels, with and without tuning, to see if a high accuracy score could be produced. All of the models predicting for male, female, or infant yielded low accuracy scores. With infant leading the three in terms of relative accuracy. \n",
        "\n",
        "To explore more of this 'relative' accuracy I decided to split up the data set into three separate binary classification problems, breaking up the data into three sets where each of sexes had a 1 value for the indicative sex (male, female, infant) and 0 value for the other sex (not male, not female, not infant) respective of which sex was being evaluated. \n",
        "\n",
        "The binary way of processing the data tended to yield better results. I used a logistic regression model to calculate the accuracy and roc auc of the model for each of the sexes and their respective newly created datasets. Overall it appears the metrics as far as those shown in the classification report and the roc display grew somewhat after the classes were balanced.\n",
        "\n",
        "In the end, still the infant dataset performed better than the rest reaching a level of accuracy nearly 20% higher than that of the other sexes. Which still raises a lot of questions for me. What is it about the infant dataset that makes it easier to separably predict on? Could there be some bias in the logistic regression model that would make it better for that kind of data? \n",
        "\n",
        "Well. It was fun! Until next time python...\n",
        "\n"
      ],
      "metadata": {
        "id": "mzzPb5K-3GO8"
      }
    }
  ]
}